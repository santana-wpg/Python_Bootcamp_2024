{
 "cells": [
  {
   "cell_type": "code",
   "execution_count": 7,
   "id": "d898dc00-6c48-486a-802c-c09c685942b0",
   "metadata": {},
   "outputs": [
    {
     "name": "stdin",
     "output_type": "stream",
     "text": [
      "What do you choose? Type 0 for Rock, Type 1 for Paper, or Type 2 for Scissors.\n",
      " 2\n"
     ]
    },
    {
     "name": "stdout",
     "output_type": "stream",
     "text": [
      "\n",
      "    _______\n",
      "---'   ____)____\n",
      "          ______)\n",
      "       __________)\n",
      "      (____)\n",
      "---.__(___)\n",
      "\n",
      "Computer chose:\n",
      "\n",
      "    _______\n",
      "---'   ____)\n",
      "      (_____)\n",
      "      (_____)\n",
      "      (____)\n",
      "---.__(___)\n",
      "\n",
      "Computer Wins!\n"
     ]
    }
   ],
   "source": [
    "import random\n",
    "\n",
    "rock = '''\n",
    "    _______\n",
    "---'   ____)\n",
    "      (_____)\n",
    "      (_____)\n",
    "      (____)\n",
    "---.__(___)\n",
    "'''\n",
    "\n",
    "paper = '''\n",
    "    _______\n",
    "---'   ____)____\n",
    "          ______)\n",
    "          _______)\n",
    "         _______)\n",
    "---.__________)\n",
    "'''\n",
    "\n",
    "scissors = '''\n",
    "    _______\n",
    "---'   ____)____\n",
    "          ______)\n",
    "       __________)\n",
    "      (____)\n",
    "---.__(___)\n",
    "'''\n",
    "\n",
    "game_images = [rock, paper, scissors]\n",
    "\n",
    "user_choice = int(input(\"What do you choose? Type 0 for Rock, Type 1 for Paper, or Type 2 for Scissors.\\n\"))\n",
    "\n",
    "# Check if the user input is valid before accessing the list\n",
    "if user_choice >= 3 or user_choice < 0:\n",
    "    print(\"You typed an invalid number. You Lose!\")\n",
    "else:\n",
    "    print(game_images[user_choice])  # Only print if the input is valid\n",
    "\n",
    "    computer_choice = random.randint(0, 2)\n",
    "    print(f\"Computer chose:\")\n",
    "    print(game_images[computer_choice])\n",
    "\n",
    "    if user_choice == 0 and computer_choice == 2:\n",
    "        print(\"User Wins!\")\n",
    "    elif computer_choice == 0 and user_choice == 2:\n",
    "        print(\"Computer Wins!\")\n",
    "    elif computer_choice > user_choice:\n",
    "        print(\"Computer Wins!\")\n",
    "    elif user_choice > computer_choice:\n",
    "        print(\"User Wins!\")\n",
    "    elif computer_choice == user_choice:\n",
    "        print(\"It's a Draw!\")"
   ]
  },
  {
   "cell_type": "code",
   "execution_count": null,
   "id": "6bb714bc-b2d6-4e13-9ff0-c8e2193a88f8",
   "metadata": {},
   "outputs": [],
   "source": []
  }
 ],
 "metadata": {
  "kernelspec": {
   "display_name": "Python 3 (ipykernel)",
   "language": "python",
   "name": "python3"
  },
  "language_info": {
   "codemirror_mode": {
    "name": "ipython",
    "version": 3
   },
   "file_extension": ".py",
   "mimetype": "text/x-python",
   "name": "python",
   "nbconvert_exporter": "python",
   "pygments_lexer": "ipython3",
   "version": "3.12.4"
  }
 },
 "nbformat": 4,
 "nbformat_minor": 5
}
